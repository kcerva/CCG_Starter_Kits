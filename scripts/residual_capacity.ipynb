{
 "cells": [
  {
   "cell_type": "code",
   "execution_count": null,
   "id": "inside-strip",
   "metadata": {},
   "outputs": [],
   "source": [
    "from csv import DictReader\n",
    "import os\n",
    "import pandas as pd\n",
    "\n",
    "from osemosys_global.OPG_powerplant_data import get_data, create_generators"
   ]
  },
  {
   "cell_type": "code",
   "execution_count": null,
   "id": "vocal-belize",
   "metadata": {},
   "outputs": [],
   "source": [
    "COUNTRIES = os.path.join('data', 'countries.csv')\n",
    "INPUT_DATA = os.path.join('..', '..', 'osemosys_global', 'data')\n",
    "OUTPUT_PATH = os.path.join('model_data')"
   ]
  },
  {
   "cell_type": "code",
   "execution_count": null,
   "id": "scientific-techno",
   "metadata": {},
   "outputs": [],
   "source": [
    "df, df_dict = get_data(INPUT_DATA)"
   ]
  },
  {
   "cell_type": "code",
   "execution_count": null,
   "id": "suitable-analyst",
   "metadata": {},
   "outputs": [],
   "source": [
    "df.head()"
   ]
  },
  {
   "cell_type": "code",
   "execution_count": null,
   "id": "twelve-bottom",
   "metadata": {},
   "outputs": [],
   "source": [
    "df_op_life = pd.read_csv(os.path.join(INPUT_DATA, \"operational_life.csv\"))\n",
    "df_tech_code = pd.read_csv(os.path.join('..', 'data', \"techmap.csv\"))\n",
    "df_gen_2 = create_generators(df, df_dict, 2015, df_op_life, df_tech_code)\n",
    "df_gen_2[\"country_code\"] = df_gen_2[\"country_code\"].str[0:3]"
   ]
  },
  {
   "cell_type": "code",
   "execution_count": null,
   "id": "chemical-while",
   "metadata": {},
   "outputs": [],
   "source": [
    "res_cap_cols = [\n",
    "        \"country_code\",\n",
    "        \"powerplant\",\n",
    "        \"tech_code\",\n",
    "        \"total_capacity\",\n",
    "        \"start_year\",\n",
    "        \"retirement_year_model\",\n",
    "        \"operational_life\",\n",
    "    ]\n",
    "\n",
    "df_res_cap = df_gen_2[res_cap_cols]"
   ]
  },
  {
   "cell_type": "code",
   "execution_count": null,
   "id": "consolidated-tennessee",
   "metadata": {},
   "outputs": [],
   "source": [
    "map_tech_codes = pd.read_csv(os.path.join('..', 'data', 'tech_name_map.csv'), \n",
    "                             dtype='str',\n",
    "                             na_filter=False\n",
    "                             ).set_index('plexos').to_dict()\n"
   ]
  },
  {
   "cell_type": "code",
   "execution_count": null,
   "id": "limited-justice",
   "metadata": {},
   "outputs": [],
   "source": [
    "# Convert total capacity from MW to GW\n",
    "df_res_cap['total_capacity'] = df_res_cap['total_capacity'].div(1000)\n",
    "\n",
    "sand_tech = df_res_cap['tech_code'].apply(lambda x: map_tech_codes['sand'][x])\n",
    "\n",
    "suffix = df_res_cap['tech_code'].apply(lambda x: map_tech_codes['suffix'][x])\n",
    "\n",
    "df_res_cap[\"group\"] = 'PWR' + sand_tech + suffix\n",
    "\n",
    "# Allocate tech codes for hydro\n",
    "# PWRHYD001\tLarge Hydropower Plant (Dam) (>100MW)\n",
    "# PWRHYD002\tMedium Hydropower Plant (10-100MW)\n",
    "# PWRHYD003\tSmall Hydropower Plant (<10MW)\n",
    "# PWRHYD004\tOff-grid Hydropower\n",
    "\n",
    "large_hydro = (df_res_cap['tech_code'] == 'HYD') & (df_res_cap['total_capacity'] >= 0.100)\n",
    "\n",
    "medium_hydro = (df_res_cap['tech_code'] == 'HYD') & \\\n",
    "               (df_res_cap['total_capacity'] >= 0.010) & \\\n",
    "               (df_res_cap['total_capacity'] < 0.1)\n",
    "small_hydro = (df_res_cap['tech_code'] == 'HYD') & \\\n",
    "              (df_res_cap['total_capacity'] >= 0) & \\\n",
    "              (df_res_cap['total_capacity'] < 0.01)\n",
    "\n",
    "df_res_cap.loc[large_hydro, \"group\"] = 'PWR' + sand_tech + \"001\"\n",
    "df_res_cap.loc[medium_hydro, \"group\"] = 'PWR' + sand_tech + \"002\"\n",
    "df_res_cap.loc[small_hydro, \"group\"] = 'PWR' + sand_tech + \"003\"\n",
    "\n",
    "df_res_cap['powerplant'] = df_res_cap['powerplant'].str.split('_', expand=True).loc[:, 2]"
   ]
  },
  {
   "cell_type": "code",
   "execution_count": null,
   "id": "unable-income",
   "metadata": {},
   "outputs": [],
   "source": [
    "def filter_by_country(df, country_code):\n",
    "    filterbycountry = df['country_code'] == country_code\n",
    "    return df[filterbycountry]"
   ]
  },
  {
   "cell_type": "code",
   "execution_count": null,
   "id": "grateful-biodiversity",
   "metadata": {},
   "outputs": [],
   "source": [
    "filter_columns = ['lookup', 'country_code', 'group', 'id', 'powerplant', 'operational_life',  'start_year', 'total_capacity']\n",
    "column_map = {\n",
    "    'operational_life': 'pp_life_time',  \n",
    "    'start_year': 'year_built', \n",
    "    'total_capacity': 'capacity'\n",
    "}\n",
    "df_res_cap['id'] = df_res_cap.groupby(by=['country_code', 'group']).cumcount()\n",
    "df_res_cap['lookup'] = df_res_cap['country_code'] + df_res_cap['id'].apply(str) + df_res_cap['group']\n",
    "df_res_cap[filter_columns].rename(columns=column_map).to_csv('residual_capacity.csv', index=False)"
   ]
  },
  {
   "cell_type": "code",
   "execution_count": null,
   "id": "norwegian-information",
   "metadata": {},
   "outputs": [],
   "source": [
    "countries = df_res_cap.country_code.unique()"
   ]
  },
  {
   "cell_type": "code",
   "execution_count": null,
   "id": "advance-thousand",
   "metadata": {},
   "outputs": [],
   "source": [
    "for country in countries:\n",
    "    df = filter_by_country(df_res_cap, country)\n",
    "    df[filter_columns].rename(columns=column_map).to_csv(\"resid_cap_{}.csv\".format(country), index=False)"
   ]
  }
 ],
 "metadata": {
  "kernelspec": {
   "display_name": "Python 3",
   "language": "python",
   "name": "python3"
  },
  "language_info": {
   "codemirror_mode": {
    "name": "ipython",
    "version": 3
   },
   "file_extension": ".py",
   "mimetype": "text/x-python",
   "name": "python",
   "nbconvert_exporter": "python",
   "pygments_lexer": "ipython3",
   "version": "3.8.8"
  }
 },
 "nbformat": 4,
 "nbformat_minor": 5
}
